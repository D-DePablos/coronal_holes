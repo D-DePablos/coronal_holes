{
 "cells": [
  {
   "cell_type": "markdown",
   "metadata": {},
   "source": [
    "### Convert images from jpeg to blosc format\n",
    "\n",
    "This Notebook shows how to convert images from jpeg to more memory efficient blosc file format."
   ]
  },
  {
   "cell_type": "markdown",
   "metadata": {},
   "source": [
    "Set path to source images and run the cell."
   ]
  },
  {
   "cell_type": "code",
   "execution_count": 1,
   "metadata": {
    "collapsed": true
   },
   "outputs": [],
   "source": [
    "from src import FileIndexer, ImageBatch, BatchGenerator\n",
    "\n",
    "index = FileIndexer([{'name': 'images',\n",
    "                      'path': 'C:/AIA/*.jpg'}]) #Set here correct path to source images\n",
    "\n",
    "bg = BatchGenerator(index, ImageBatch)"
   ]
  },
  {
   "cell_type": "markdown",
   "metadata": {},
   "source": [
    "Set output directory where blosc files will appear and run the cell."
   ]
  },
  {
   "cell_type": "code",
   "execution_count": 3,
   "metadata": {
    "collapsed": true
   },
   "outputs": [],
   "source": [
    "batch_size = 10\n",
    "\n",
    "for _ in range(0, len(bg), batch_size):\n",
    "    batch = bg.next_batch(batch_size, n_epochs=1, shuffle=False, drop_last=False)\n",
    "    batch.load_images(fmt='jpeg')\n",
    "    batch.dump_images(fmt='blosc', path='C:/AIA/') #Set here output directory"
   ]
  },
  {
   "cell_type": "markdown",
   "metadata": {},
   "source": [
    "Done! Check the output directory."
   ]
  }
 ],
 "metadata": {
  "anaconda-cloud": {},
  "kernelspec": {
   "display_name": "Python [default]",
   "language": "python",
   "name": "python3"
  }
 },
 "nbformat": 4,
 "nbformat_minor": 2
}
